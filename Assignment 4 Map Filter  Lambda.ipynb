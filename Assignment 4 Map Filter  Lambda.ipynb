{
 "cells": [
  {
   "cell_type": "code",
   "execution_count": 1,
   "id": "a694ee00",
   "metadata": {},
   "outputs": [
    {
     "name": "stdout",
     "output_type": "stream",
     "text": [
      "Enter a number : 10\n",
      "Result is 35\n"
     ]
    }
   ],
   "source": [
    "add_value=int(input('Enter a number : '))\n",
    "addition=lambda number:number+25\n",
    "print('Result is {}'.format(addition(add_value)))"
   ]
  },
  {
   "cell_type": "code",
   "execution_count": null,
   "id": "60aa05e2",
   "metadata": {},
   "outputs": [],
   "source": []
  }
 ],
 "metadata": {
  "kernelspec": {
   "display_name": "Python 3 (ipykernel)",
   "language": "python",
   "name": "python3"
  },
  "language_info": {
   "codemirror_mode": {
    "name": "ipython",
    "version": 3
   },
   "file_extension": ".py",
   "mimetype": "text/x-python",
   "name": "python",
   "nbconvert_exporter": "python",
   "pygments_lexer": "ipython3",
   "version": "3.9.7"
  }
 },
 "nbformat": 4,
 "nbformat_minor": 5
}
