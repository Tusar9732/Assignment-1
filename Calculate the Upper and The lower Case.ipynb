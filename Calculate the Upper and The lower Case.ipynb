{
 "cells": [
  {
   "cell_type": "code",
   "execution_count": 1,
   "id": "0724c118",
   "metadata": {},
   "outputs": [],
   "source": [
    "def count_case(x):\n",
    "    u=0\n",
    "    l=0\n",
    "    for i in x:\n",
    "        if i.isupper():\n",
    "            u+=1\n",
    "        elif i.islower():\n",
    "            l+=1\n",
    "    print(\"The number of upper case charecters is {} \\nThe number of lower case charecter is {}\".format(u,l))   "
   ]
  },
  {
   "cell_type": "code",
   "execution_count": 2,
   "id": "b22424ea",
   "metadata": {},
   "outputs": [
    {
     "name": "stdout",
     "output_type": "stream",
     "text": [
      "The number of upper case charecters is 3 \n",
      "The number of lower case charecter is 12\n"
     ]
    }
   ],
   "source": [
    "count_case('The quick Brow Fox')"
   ]
  },
  {
   "cell_type": "code",
   "execution_count": null,
   "id": "37b2f84f",
   "metadata": {},
   "outputs": [],
   "source": []
  }
 ],
 "metadata": {
  "kernelspec": {
   "display_name": "Python 3 (ipykernel)",
   "language": "python",
   "name": "python3"
  },
  "language_info": {
   "codemirror_mode": {
    "name": "ipython",
    "version": 3
   },
   "file_extension": ".py",
   "mimetype": "text/x-python",
   "name": "python",
   "nbconvert_exporter": "python",
   "pygments_lexer": "ipython3",
   "version": "3.9.7"
  }
 },
 "nbformat": 4,
 "nbformat_minor": 5
}
